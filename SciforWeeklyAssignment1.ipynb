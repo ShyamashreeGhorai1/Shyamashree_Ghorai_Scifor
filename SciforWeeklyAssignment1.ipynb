{
  "nbformat": 4,
  "nbformat_minor": 0,
  "metadata": {
    "colab": {
      "provenance": []
    },
    "kernelspec": {
      "name": "python3",
      "display_name": "Python 3"
    },
    "language_info": {
      "name": "python"
    }
  },
  "cells": [
    {
      "cell_type": "markdown",
      "source": [
        "Q1. Create a python to sort the given list of tuples based on integer value using a lamda function.\n",
        "[('Sachine Tendulkar',34357),('Ricky Ponting',27483),('Jack Kallis',25534),('Virat Kohli',24936)]"
      ],
      "metadata": {
        "id": "q21Wx0f_8NIb"
      }
    },
    {
      "cell_type": "code",
      "source": [
        "def sort_tuples(tuples, key_idx):\n",
        "  key_func = lambda x: x[key_idx]\n",
        "  sorted_tuples = sorted(tuples, key=key_func)\n",
        "  return sorted_tuples\n",
        "\n",
        "\n",
        "tuples = [('Sachine Tendulkar',34357),('Ricky Ponting',27483),('Jack Kallis',25534),('Virat Kohli',24936)]\n",
        "sorted_tuples = sort_tuples(tuples, 1)\n",
        "print(sorted_tuples)"
      ],
      "metadata": {
        "id": "VnyogdVM8Nx8",
        "colab": {
          "base_uri": "https://localhost:8080/"
        },
        "outputId": "4c5fd315-52b2-49fb-cf04-07ef667246df"
      },
      "execution_count": null,
      "outputs": [
        {
          "output_type": "stream",
          "name": "stdout",
          "text": [
            "[('Virat Kohli', 24936), ('Jack Kallis', 25534), ('Ricky Ponting', 27483), ('Sachine Tendulkar', 34357)]\n"
          ]
        }
      ]
    },
    {
      "cell_type": "markdown",
      "source": [
        "Q2. write a python program to find the squares of all the numbers in the given list of integers using lamda and map functions.\n",
        "[1,2,3,4,5,6,7,8,9,10]"
      ],
      "metadata": {
        "id": "bANIJmCgJJcN"
      }
    },
    {
      "cell_type": "code",
      "source": [
        "numbers = [1,2,3,4,5,6,7,8,9,10]\n",
        "result = map(lambda x:x*x,numbers)\n",
        "print(list(result))"
      ],
      "metadata": {
        "colab": {
          "base_uri": "https://localhost:8080/"
        },
        "id": "_1ZrALKWEyO0",
        "outputId": "bbf807b9-a441-448f-8d28-5fe8df27a966"
      },
      "execution_count": null,
      "outputs": [
        {
          "output_type": "stream",
          "name": "stdout",
          "text": [
            "[1, 4, 9, 16, 25, 36, 49, 64, 81, 100]\n"
          ]
        }
      ]
    },
    {
      "cell_type": "markdown",
      "source": [
        "Q3. write a python program to convert the given list of integers into a tuple of strings.use map and lambda functions.\n",
        "\n",
        "Given String:[1,2,3,4,5,6,7,8,9,10]\n",
        "\n",
        "Expected Output:('1','2','3','4','5','6','7','8','9','10')"
      ],
      "metadata": {
        "id": "VREg5H0KKk_g"
      }
    },
    {
      "cell_type": "code",
      "source": [
        "string = [1,2,3,4,5,6,7,8,9,10]\n",
        "result = tuple(list(map(lambda x:str(x),string)))\n",
        "print(result)\n"
      ],
      "metadata": {
        "colab": {
          "base_uri": "https://localhost:8080/"
        },
        "id": "pBhSOHLxG6US",
        "outputId": "3e72c258-3bd6-4de1-a1f4-b3c3d99735de"
      },
      "execution_count": null,
      "outputs": [
        {
          "output_type": "stream",
          "name": "stdout",
          "text": [
            "('1', '2', '3', '4', '5', '6', '7', '8', '9', '10')\n"
          ]
        }
      ]
    },
    {
      "cell_type": "markdown",
      "source": [
        "Q4. write a python program using reduce function to compute the product of a list containing numbers from 1 to 25."
      ],
      "metadata": {
        "id": "fltlf3bBYc_O"
      }
    },
    {
      "cell_type": "code",
      "source": [
        "import functools\n",
        "import operator\n",
        "print(\"The product of the list is\",functools.reduce(operator.mul,[1,2,3,4,5,6,7,8,9,10,11,12,13,14,15,16,17,18,19,20,21,22,23,24,25]))"
      ],
      "metadata": {
        "id": "pjowSRPGG6dW",
        "colab": {
          "base_uri": "https://localhost:8080/"
        },
        "outputId": "ccdc498c-989f-4528-9f6a-a3f7d7243976"
      },
      "execution_count": null,
      "outputs": [
        {
          "output_type": "stream",
          "name": "stdout",
          "text": [
            "The product of the list is 15511210043330985984000000\n"
          ]
        }
      ]
    },
    {
      "cell_type": "markdown",
      "source": [
        "Q5. write a python program to filter the numbers in the given list that are divisible by 2 and 3 [2,3,6,9,27,60,90,120,55,46]."
      ],
      "metadata": {
        "id": "di_8pNyvuJm1"
      }
    },
    {
      "cell_type": "code",
      "source": [
        "lis = [2,3,6,9,27,60,90,120,55,46]\n",
        "for i in lis:\n",
        "  if i%2==0 and i%3==0:\n",
        "    print(i)"
      ],
      "metadata": {
        "id": "ia3hVwVXG6ju",
        "colab": {
          "base_uri": "https://localhost:8080/"
        },
        "outputId": "c79c0401-7710-403c-a359-25f1697f5c0e"
      },
      "execution_count": null,
      "outputs": [
        {
          "output_type": "stream",
          "name": "stdout",
          "text": [
            "6\n",
            "60\n",
            "90\n",
            "120\n"
          ]
        }
      ]
    },
    {
      "cell_type": "markdown",
      "source": [
        "Q6. write a python program to find palindromes in the given list of strings using lambda and filter function.['python','php','aba','radar','level']"
      ],
      "metadata": {
        "id": "HuBxMgOl7eeR"
      }
    },
    {
      "cell_type": "code",
      "source": [
        "texts = ['python','php','aba','radar','level']\n",
        "result = list(filter(lambda x:x==x[::-1],texts))\n",
        "print(\"List of palindromes are:\", result)"
      ],
      "metadata": {
        "id": "r7zmQJmvEyRg",
        "colab": {
          "base_uri": "https://localhost:8080/"
        },
        "outputId": "0cefc9c2-9bf4-4508-af31-486bcfd3f5ad"
      },
      "execution_count": null,
      "outputs": [
        {
          "output_type": "stream",
          "name": "stdout",
          "text": [
            "List of palindromes are: ['php', 'aba', 'radar', 'level']\n"
          ]
        }
      ]
    },
    {
      "cell_type": "code",
      "source": [],
      "metadata": {
        "id": "gYWWw-dQ9qfo"
      },
      "execution_count": null,
      "outputs": []
    }
  ]
}