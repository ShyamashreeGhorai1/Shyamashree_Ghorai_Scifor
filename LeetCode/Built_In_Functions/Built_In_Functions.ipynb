{
  "nbformat": 4,
  "nbformat_minor": 0,
  "metadata": {
    "colab": {
      "provenance": []
    },
    "kernelspec": {
      "name": "python3",
      "display_name": "Python 3"
    },
    "language_info": {
      "name": "python"
    }
  },
  "cells": [
    {
      "cell_type": "code",
      "execution_count": 1,
      "metadata": {
        "id": "nJbeZL4Hrh12"
      },
      "outputs": [],
      "source": [
        "# 1.\n",
        "# Problem : https://leetcode.com/problems/length-of-last-word/?envType=study-plan-v2&envId=programming-skills\n",
        "\n",
        "# Solution :\n",
        "\n",
        "\n",
        "class Solution:\n",
        "    def lengthOfLastWord(self, s: str) -> int:\n",
        "        return len(s.split()[-1])"
      ]
    },
    {
      "cell_type": "code",
      "source": [],
      "metadata": {
        "id": "eVsfnkSPr4lb"
      },
      "execution_count": null,
      "outputs": []
    },
    {
      "cell_type": "code",
      "source": [],
      "metadata": {
        "id": "IVW-s371r4tq"
      },
      "execution_count": null,
      "outputs": []
    },
    {
      "cell_type": "code",
      "source": [
        "# 2.\n",
        "# Problem : https://leetcode.com/problems/to-lower-case/?envType=study-plan-v2&envId=programming-skills\n",
        "\n",
        "# Solution :\n",
        "\n",
        "\n",
        "class Solution:\n",
        "    def toLowerCase(self, s: str) -> str:\n",
        "        return s.lower()"
      ],
      "metadata": {
        "id": "chklLmw5r44N"
      },
      "execution_count": 2,
      "outputs": []
    },
    {
      "cell_type": "code",
      "source": [],
      "metadata": {
        "id": "sZpPje5asIws"
      },
      "execution_count": null,
      "outputs": []
    },
    {
      "cell_type": "code",
      "source": [],
      "metadata": {
        "id": "HW9Sp2-KsI46"
      },
      "execution_count": null,
      "outputs": []
    }
  ]
}