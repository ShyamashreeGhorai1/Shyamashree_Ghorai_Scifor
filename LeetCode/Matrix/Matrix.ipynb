{
  "nbformat": 4,
  "nbformat_minor": 0,
  "metadata": {
    "colab": {
      "provenance": []
    },
    "kernelspec": {
      "name": "python3",
      "display_name": "Python 3"
    },
    "language_info": {
      "name": "python"
    }
  },
  "cells": [
    {
      "cell_type": "code",
      "execution_count": 2,
      "metadata": {
        "id": "s5CkP6_dGiZF"
      },
      "outputs": [],
      "source": [
        "# 1.\n",
        "# Problem : https://leetcode.com/problems/richest-customer-wealth/?envType=study-plan-v2&envId=programming-skills\n",
        "\n",
        "# Solution :\n",
        "\n",
        "\n",
        "from typing import List\n",
        "\n",
        "class Solution:\n",
        "    def maximumWealth(self, accounts: List[List[int]]) -> int:\n",
        "        wealth = []\n",
        "        for account in accounts:\n",
        "            wealth.append(sum(account))\n",
        "        result = max(wealth)\n",
        "        return result"
      ]
    },
    {
      "cell_type": "code",
      "source": [],
      "metadata": {
        "id": "jjuuR7zCG7hz"
      },
      "execution_count": null,
      "outputs": []
    },
    {
      "cell_type": "code",
      "source": [],
      "metadata": {
        "id": "MF1rJ8TXG7rA"
      },
      "execution_count": null,
      "outputs": []
    },
    {
      "cell_type": "code",
      "source": [
        "# 2.\n",
        "# Problem : https://leetcode.com/problems/matrix-diagonal-sum/?envType=study-plan-v2&envId=programming-skills\n",
        "\n",
        "# Solution :\n",
        "\n",
        "\n",
        "class Solution:\n",
        "    def diagonalSum(self, mat: List[List[int]]) -> int:\n",
        "        prim_sum = 0\n",
        "        seco_sum = 0\n",
        "        n = len(mat)\n",
        "        for i in range(n):\n",
        "            prim_sum = prim_sum + mat[i][i]\n",
        "            seco_sum = seco_sum + mat[i][n-1-i]\n",
        "        diag_sum = prim_sum + seco_sum\n",
        "        if n%2 != 0:\n",
        "            diag_sum = diag_sum - mat[n//2][n//2]\n",
        "        return diag_sum"
      ],
      "metadata": {
        "id": "ZtmtO9WTG78O"
      },
      "execution_count": 3,
      "outputs": []
    },
    {
      "cell_type": "code",
      "source": [],
      "metadata": {
        "id": "WaCg7o_KHORH"
      },
      "execution_count": null,
      "outputs": []
    },
    {
      "cell_type": "code",
      "source": [],
      "metadata": {
        "id": "dnEV6jlMHOaa"
      },
      "execution_count": null,
      "outputs": []
    },
    {
      "cell_type": "code",
      "source": [
        "# 3.\n",
        "# Problem : https://leetcode.com/problems/spiral-matrix/?envType=study-plan-v2&envId=programming-skills\n",
        "\n",
        "# Solution :\n",
        "\n",
        "\n",
        "class Solution:\n",
        "    def spiralOrder(self, matrix: List[List[int]]) -> List[int]:\n",
        "        result = []\n",
        "        while matrix:\n",
        "            result += matrix.pop(0)\n",
        "            matrix = (list(zip(*matrix)))[::-1]\n",
        "        return result"
      ],
      "metadata": {
        "id": "9hFFjtrHHOqR"
      },
      "execution_count": 4,
      "outputs": []
    },
    {
      "cell_type": "code",
      "source": [],
      "metadata": {
        "id": "GYgI7mkqHe8i"
      },
      "execution_count": null,
      "outputs": []
    },
    {
      "cell_type": "code",
      "source": [],
      "metadata": {
        "id": "y7vmIIWEHfBu"
      },
      "execution_count": null,
      "outputs": []
    },
    {
      "cell_type": "code",
      "source": [
        "# 4.\n",
        "# Problem : https://leetcode.com/problems/set-matrix-zeroes/?envType=study-plan-v2&envId=programming-skills\n",
        "\n",
        "# Solution :\n",
        "\n",
        "\n",
        "from typing import List\n",
        "\n",
        "class Solution:\n",
        "    def setZeroes(self, matrix: List[List[int]]) -> None:\n",
        "        \"\"\"\n",
        "        Do not return anything, modify matrix in-place instead.\n",
        "        \"\"\"\n",
        "        index = []\n",
        "        m = len(matrix)\n",
        "        n = len(matrix[0])\n",
        "        for i in range(m):\n",
        "            for j in range(n):\n",
        "                if matrix[i][j] == 0:\n",
        "                    index.append([i,j])\n",
        "        for k,l in index:\n",
        "            for idx in range(n):\n",
        "                matrix[k][idx] = 0\n",
        "            for idx in range(m):\n",
        "                matrix[idx][l] = 0\n",
        "        return matrix"
      ],
      "metadata": {
        "id": "IYZENQtdHfF5"
      },
      "execution_count": 5,
      "outputs": []
    },
    {
      "cell_type": "code",
      "source": [],
      "metadata": {
        "id": "Z5TeTGfqH0Sh"
      },
      "execution_count": null,
      "outputs": []
    },
    {
      "cell_type": "code",
      "source": [],
      "metadata": {
        "id": "8B-k4yTdH0aV"
      },
      "execution_count": null,
      "outputs": []
    }
  ]
}