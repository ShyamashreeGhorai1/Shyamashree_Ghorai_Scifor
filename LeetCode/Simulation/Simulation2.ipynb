{
  "nbformat": 4,
  "nbformat_minor": 0,
  "metadata": {
    "colab": {
      "provenance": []
    },
    "kernelspec": {
      "name": "python3",
      "display_name": "Python 3"
    },
    "language_info": {
      "name": "python"
    }
  },
  "cells": [
    {
      "cell_type": "code",
      "execution_count": 1,
      "metadata": {
        "id": "asAcswvwJXwW"
      },
      "outputs": [],
      "source": [
        "# 3.\n",
        "# Problem : https://leetcode.com/problems/find-winner-on-a-tic-tac-toe-game/?envType=study-plan-v2&envId=programming-skills\n",
        "\n",
        "# Solution :\n",
        "\n",
        "\n",
        "from typing import List\n",
        "\n",
        "class Solution:\n",
        "    def tictactoe(self, moves: List[List[int]]) -> str:\n",
        "       row = [0,0,0]\n",
        "       col = [0,0,0]\n",
        "       diag1,diag2 = 0,0\n",
        "       n =3\n",
        "       for idx,move in enumerate(moves):\n",
        "           i,j = move\n",
        "           if idx % 2  == 0:\n",
        "               sign = 1\n",
        "           else:\n",
        "               sign = -1\n",
        "           row[i] += sign\n",
        "           col[j] += sign\n",
        "           if i == j:\n",
        "                diag1 += sign\n",
        "           if i+j == n-1:\n",
        "                diag2 += sign\n",
        "           if (abs(row[i])==n or abs(col[j])==n or\n",
        "            abs(diag1)==n or abs(diag2)==n):\n",
        "                return \"A\" if sign ==1 else \"B\"\n",
        "       return \"Draw\" if len(moves)==n*n else \"Pending\""
      ]
    },
    {
      "cell_type": "code",
      "source": [],
      "metadata": {
        "id": "uF4zJ86wJz6Z"
      },
      "execution_count": null,
      "outputs": []
    },
    {
      "cell_type": "code",
      "source": [],
      "metadata": {
        "id": "bV8DFBsXJ0Yw"
      },
      "execution_count": null,
      "outputs": []
    },
    {
      "cell_type": "code",
      "source": [
        "# 4.\n",
        "\n",
        "# Problem : https://leetcode.com/problems/robot-bounded-in-circle/?envType=study-plan-v2&envId=programming-skills\n",
        "\n",
        "\n",
        "# Solution :\n",
        "\n",
        "\n",
        "class Solution:\n",
        "    def isRobotBounded(self, instructions: str) -> bool:\n",
        "        curr_dir = 'N'\n",
        "        curr_pos = [0,0]\n",
        "        direc = {\"N\":[0,1],\"S\":[0,-1],\"E\":[1,0],\"W\":[-1,0]}\n",
        "        chng_dir = {\n",
        "            \"N\":{\"L\":\"W\",\"R\":\"E\"},\n",
        "            \"S\":{\"L\":\"E\",\"R\":\"W\"},\n",
        "            \"E\":{\"L\":\"N\",\"R\":\"S\"},\n",
        "            \"W\":{\"L\":\"S\",\"R\":\"N\"}\n",
        "        }\n",
        "        for instruction in instructions:\n",
        "            if instruction == \"G\":\n",
        "                curr_pos[1] += direc[curr_dir][1]\n",
        "                curr_pos[0] += direc[curr_dir][0]\n",
        "            else:\n",
        "                curr_dir = chng_dir[curr_dir][instruction]\n",
        "        if curr_pos == [0,0] or curr_dir != 'N':\n",
        "            return True\n",
        "        else:\n",
        "            return False"
      ],
      "metadata": {
        "id": "c30wafrKJ0jf"
      },
      "execution_count": 2,
      "outputs": []
    },
    {
      "cell_type": "code",
      "source": [],
      "metadata": {
        "id": "bC51S5KIKBhm"
      },
      "execution_count": null,
      "outputs": []
    },
    {
      "cell_type": "code",
      "source": [],
      "metadata": {
        "id": "0wwoVVltKBnm"
      },
      "execution_count": null,
      "outputs": []
    }
  ]
}