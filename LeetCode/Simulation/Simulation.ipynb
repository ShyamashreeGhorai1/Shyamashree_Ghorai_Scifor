{
  "nbformat": 4,
  "nbformat_minor": 0,
  "metadata": {
    "colab": {
      "provenance": []
    },
    "kernelspec": {
      "name": "python3",
      "display_name": "Python 3"
    },
    "language_info": {
      "name": "python"
    }
  },
  "cells": [
    {
      "cell_type": "code",
      "execution_count": 4,
      "metadata": {
        "id": "OwxJJVHDZqUE"
      },
      "outputs": [],
      "source": [
        "# 1.\n",
        "# Problem : https://leetcode.com/problems/baseball-game/?envType=study-plan-v2&envId=programming-skills\n",
        "\n",
        "# Solution :\n",
        "\n",
        "\n",
        "from typing import List\n",
        "\n",
        "class Solution:\n",
        "    def calPoints(self, operations: List[str]) -> int:\n",
        "        result = []\n",
        "        for ele in operations:\n",
        "            if (ele==\"+\"):\n",
        "                    result.append(result[-1] + result[-2])\n",
        "            elif (ele==\"C\"):\n",
        "                    result.remove(result[-1])\n",
        "            elif (ele == \"D\"):\n",
        "                    result.append(2*result[-1])\n",
        "            else:\n",
        "                result.append(int(ele))\n",
        "\n",
        "        return sum(result)"
      ]
    },
    {
      "cell_type": "code",
      "source": [],
      "metadata": {
        "id": "bzEwY2kbZ7Me"
      },
      "execution_count": null,
      "outputs": []
    },
    {
      "cell_type": "code",
      "source": [],
      "metadata": {
        "id": "eCD3P-ruZ7XN"
      },
      "execution_count": null,
      "outputs": []
    },
    {
      "cell_type": "code",
      "source": [
        "# 2.\n",
        "# Problem : https://leetcode.com/problems/robot-return-to-origin/?envType=study-plan-v2&envId=programming-skills\n",
        "\n",
        "# Solution :\n",
        "\n",
        "\n",
        "class Solution:\n",
        "    def judgeCircle(self, moves: str) -> bool:\n",
        "        count_L = 0\n",
        "        count_R = 0\n",
        "        count_D = 0\n",
        "        count_U = 0\n",
        "        for ele in moves:\n",
        "            if ele == 'L':\n",
        "                count_L = count_L + 1\n",
        "            elif ele == 'R':\n",
        "                count_R = count_R + 1\n",
        "            elif ele == 'D':\n",
        "                count_D = count_D + 1\n",
        "            elif ele == 'U':\n",
        "                count_U = count_U + 1\n",
        "        if count_L == count_R and count_D == count_U:\n",
        "            return True\n",
        "        else:\n",
        "            return False"
      ],
      "metadata": {
        "id": "kFqu63jpZ7fc"
      },
      "execution_count": 5,
      "outputs": []
    }
  ]
}