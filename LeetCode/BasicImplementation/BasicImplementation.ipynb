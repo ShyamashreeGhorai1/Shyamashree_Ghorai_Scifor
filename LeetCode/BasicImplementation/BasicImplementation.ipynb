{
  "nbformat": 4,
  "nbformat_minor": 0,
  "metadata": {
    "colab": {
      "provenance": []
    },
    "kernelspec": {
      "name": "python3",
      "display_name": "Python 3"
    },
    "language_info": {
      "name": "python"
    }
  },
  "cells": [
    {
      "cell_type": "code",
      "execution_count": 1,
      "metadata": {
        "id": "gV1xAMe_VFkx"
      },
      "outputs": [],
      "source": [
        "# 1.\n",
        "# Problem : https://leetcode.com/problems/merge-strings-alternately/?envType=study-plan-v2&envId=programming-skills\n",
        "\n",
        "# Solution :\n",
        "\n",
        "\n",
        "class Solution:\n",
        "    def mergeAlternately(self, word1: str, word2: str) -> str:\n",
        "        result = []\n",
        "        a = max(len(word1),len(word2))\n",
        "        b = min(len(word1),len(word2))\n",
        "        for i in range(b):\n",
        "            result.append(word1[i])\n",
        "            result.append(word2[i])\n",
        "        if a!=b:\n",
        "            for i in range(b,a):\n",
        "                result.append(word1[i:])\n",
        "                result.append(word2[i:])\n",
        "                break\n",
        "\n",
        "\n",
        "        return \"\".join(result)\n"
      ]
    },
    {
      "cell_type": "code",
      "source": [],
      "metadata": {
        "id": "YSqNnzlUVp_r"
      },
      "execution_count": null,
      "outputs": []
    },
    {
      "cell_type": "code",
      "source": [],
      "metadata": {
        "id": "OOKn1hJXWGaa"
      },
      "execution_count": null,
      "outputs": []
    },
    {
      "cell_type": "code",
      "source": [
        "# 2.\n",
        "# Problem : https://leetcode.com/problems/find-the-difference/?envType=study-plan-v2&envId=programming-skills\n",
        "\n",
        "# Solution :\n",
        "\n",
        "\n",
        "class Solution:\n",
        "    def findTheDifference(self, s: str, t: str) -> str:\n",
        "        for i in s:\n",
        "            t = t.replace(i,\"\",1)\n",
        "        return t\n"
      ],
      "metadata": {
        "id": "oR9wQxu2VqPu"
      },
      "execution_count": 2,
      "outputs": []
    },
    {
      "cell_type": "code",
      "source": [],
      "metadata": {
        "id": "TMIWZhBvVqV8"
      },
      "execution_count": null,
      "outputs": []
    },
    {
      "cell_type": "code",
      "source": [],
      "metadata": {
        "id": "dteYSv2yVqY-"
      },
      "execution_count": null,
      "outputs": []
    },
    {
      "cell_type": "code",
      "source": [
        "# 3.\n",
        "# Problem : https://leetcode.com/problems/find-the-index-of-the-first-occurrence-in-a-string/?envType=study-plan-v2&envId=programming-skills\n",
        "\n",
        "\n",
        "# Solution :\n",
        "\n",
        "class Solution:\n",
        "    def strStr(self, haystack: str, needle: str) -> int:\n",
        "        return haystack.find(needle)"
      ],
      "metadata": {
        "id": "hvQ2v64-VqeU"
      },
      "execution_count": 3,
      "outputs": []
    },
    {
      "cell_type": "code",
      "source": [],
      "metadata": {
        "id": "yRW6-EsQVqhR"
      },
      "execution_count": null,
      "outputs": []
    },
    {
      "cell_type": "code",
      "source": [],
      "metadata": {
        "id": "dZmQhPOFVqkJ"
      },
      "execution_count": null,
      "outputs": []
    },
    {
      "cell_type": "code",
      "source": [
        "# 4.\n",
        "# Problem : https://leetcode.com/problems/valid-anagram/?envType=study-plan-v2&envId=programming-skills\n",
        "\n",
        "\n",
        "# Solution :\n",
        "\n",
        "\n",
        "class Solution:\n",
        "    def isAnagram(self, s: str, t: str) -> bool:\n",
        "        if sorted(s) == sorted(t):\n",
        "            return True\n",
        "        else:\n",
        "            return False"
      ],
      "metadata": {
        "id": "9MJjV7sBVqmy"
      },
      "execution_count": 4,
      "outputs": []
    },
    {
      "cell_type": "code",
      "source": [],
      "metadata": {
        "id": "ZfjoyhsxWpZb"
      },
      "execution_count": null,
      "outputs": []
    },
    {
      "cell_type": "code",
      "source": [],
      "metadata": {
        "id": "PuqGZ5cHWpcU"
      },
      "execution_count": null,
      "outputs": []
    },
    {
      "cell_type": "code",
      "source": [
        "# 5.\n",
        "# Problem : https://leetcode.com/problems/repeated-substring-pattern/?envType=study-plan-v2&envId=programming-skills\n",
        "\n",
        "\n",
        "# Solution :\n",
        "\n",
        "class Solution:\n",
        "    def repeatedSubstringPattern(self, s: str) -> bool:\n",
        "        return (s + s)[1:-1].find(s) != -1\n",
        "\n"
      ],
      "metadata": {
        "id": "8BRxNlwzWpfL"
      },
      "execution_count": 5,
      "outputs": []
    },
    {
      "cell_type": "code",
      "source": [],
      "metadata": {
        "id": "934F5M4jWphv"
      },
      "execution_count": null,
      "outputs": []
    },
    {
      "cell_type": "code",
      "source": [],
      "metadata": {
        "id": "bY2psCdhWpkT"
      },
      "execution_count": null,
      "outputs": []
    },
    {
      "cell_type": "code",
      "source": [
        "# 6.\n",
        "# Problem : https://leetcode.com/problems/move-zeroes/?envType=study-plan-v2&envId=programming-skills\n",
        "\n",
        "# Solution :\n",
        "\n",
        "\n",
        "from typing import List\n",
        "\n",
        "class Solution:\n",
        "    def moveZeroes(self, nums: List[int]) -> None:\n",
        "        i=0\n",
        "        for j in range(len(nums)):\n",
        "            if (nums[j]!=0):\n",
        "                nums[i],nums[j]=nums[j],nums[i]\n",
        "                i=i+1"
      ],
      "metadata": {
        "id": "Y3Xf80D-Wpmz"
      },
      "execution_count": 6,
      "outputs": []
    },
    {
      "cell_type": "code",
      "source": [],
      "metadata": {
        "id": "FsL5enezWppl"
      },
      "execution_count": null,
      "outputs": []
    },
    {
      "cell_type": "code",
      "source": [],
      "metadata": {
        "id": "Xv5X6pQuXwQb"
      },
      "execution_count": null,
      "outputs": []
    },
    {
      "cell_type": "code",
      "source": [
        "# 7.\n",
        "# Problem : https://leetcode.com/problems/plus-one/?envType=study-plan-v2&envId=programming-skills\n",
        "\n",
        "# solution :\n",
        "\n",
        "class Solution:\n",
        "    def plusOne(self, digits: List[int]) -> List[int]:\n",
        "        return map(int,str(int(''.join(map(str,digits)))+1))"
      ],
      "metadata": {
        "id": "NIC37yE_XwVk"
      },
      "execution_count": 7,
      "outputs": []
    },
    {
      "cell_type": "code",
      "source": [],
      "metadata": {
        "id": "fJj-pDPoXwYF"
      },
      "execution_count": null,
      "outputs": []
    },
    {
      "cell_type": "code",
      "source": [],
      "metadata": {
        "id": "5CrQX2qRXwaY"
      },
      "execution_count": null,
      "outputs": []
    },
    {
      "cell_type": "code",
      "source": [
        "# 8.\n",
        "# Problem : https://leetcode.com/problems/sign-of-the-product-of-an-array/?envType=study-plan-v2&envId=programming-skills\n",
        "\n",
        "# Solution :\n",
        "\n",
        "\n",
        "from typing import List\n",
        "\n",
        "class Solution:\n",
        "    def arraySign(self, nums: List[int]) -> int:\n",
        "        i=1\n",
        "        for j in nums:\n",
        "            i = j*i\n",
        "        if i>=1:\n",
        "            return 1\n",
        "        elif i==0:\n",
        "            return 0\n",
        "        else:\n",
        "            return -1"
      ],
      "metadata": {
        "id": "kAl0v7z_Xwc6"
      },
      "execution_count": 8,
      "outputs": []
    },
    {
      "cell_type": "code",
      "source": [],
      "metadata": {
        "id": "Stj2gz-xXwfN"
      },
      "execution_count": null,
      "outputs": []
    },
    {
      "cell_type": "code",
      "source": [],
      "metadata": {
        "id": "g3YHvPLPXwh9"
      },
      "execution_count": null,
      "outputs": []
    },
    {
      "cell_type": "code",
      "source": [
        "# 9.\n",
        "# Problem : https://leetcode.com/problems/can-make-arithmetic-progression-from-sequence/?envType=study-plan-v2&envId=programming-skills\n",
        "\n",
        "# Solution :\n",
        "\n",
        "\n",
        "from typing import List\n",
        "\n",
        "class Solution:\n",
        "    def canMakeArithmeticProgression(self, arr: List[int]) -> bool:\n",
        "        arr.sort()\n",
        "        if len(arr)>2:\n",
        "            for k in range(len(arr)-2):\n",
        "                if arr[k+1]-arr[k] == arr[k+2]-arr[k+1]:\n",
        "                    continue\n",
        "                else:\n",
        "                    return False\n",
        "            return True\n",
        "\n",
        "        else:\n",
        "            return True"
      ],
      "metadata": {
        "id": "FOyc5bt0Xwm9"
      },
      "execution_count": 9,
      "outputs": []
    },
    {
      "cell_type": "code",
      "source": [],
      "metadata": {
        "id": "H-ZAMvKRYPbx"
      },
      "execution_count": null,
      "outputs": []
    },
    {
      "cell_type": "code",
      "source": [],
      "metadata": {
        "id": "rIautiVQYPe9"
      },
      "execution_count": null,
      "outputs": []
    },
    {
      "cell_type": "code",
      "source": [
        "# 10.\n",
        "# Problem : https://leetcode.com/problems/monotonic-array/?envType=study-plan-v2&envId=programming-skills\n",
        "\n",
        "# Solution :\n",
        "\n",
        "\n",
        "from typing import List\n",
        "\n",
        "class Solution:\n",
        "    def is_incr(self, nums: List[int]) -> bool:\n",
        "        for i in range(len(nums)-1):\n",
        "            if nums[i+1]>=nums[i]:\n",
        "                continue\n",
        "            else:\n",
        "                return False\n",
        "        return True\n",
        "\n",
        "    def is_decr(self, nums: List[int]) -> bool:\n",
        "        for i in range(len(nums)-1):\n",
        "            if nums[i+1]<=nums[i]:\n",
        "                continue\n",
        "            else:\n",
        "                return False\n",
        "        return True\n",
        "\n",
        "    def isMonotonic(self, nums: List[int]) -> bool:\n",
        "       return self.is_incr(nums) or self.is_decr(nums)"
      ],
      "metadata": {
        "id": "mCpdpVtkYPhb"
      },
      "execution_count": 10,
      "outputs": []
    },
    {
      "cell_type": "code",
      "source": [],
      "metadata": {
        "id": "hhrmPx2hYPkG"
      },
      "execution_count": null,
      "outputs": []
    },
    {
      "cell_type": "code",
      "source": [],
      "metadata": {
        "id": "rr2u8KiyYPmv"
      },
      "execution_count": null,
      "outputs": []
    },
    {
      "cell_type": "code",
      "source": [
        "# 11.\n",
        "# Problem : https://leetcode.com/problems/roman-to-integer/?envType=study-plan-v2&envId=programming-skills\n",
        "\n",
        "# Solution :\n",
        "\n",
        "\n",
        "class Solution:\n",
        "    def romanToInt(self, s: str) -> int:\n",
        "        roman = {\n",
        "            \"I\": 1,\n",
        "            \"V\": 5,\n",
        "            \"X\": 10,\n",
        "            \"L\": 50,\n",
        "            \"C\": 100,\n",
        "            \"D\": 500,\n",
        "            \"M\": 1000\n",
        "        }\n",
        "        total = 0\n",
        "        for i in range(len(s)-1):\n",
        "            if roman[s[i]] < roman[s[i+1]]:\n",
        "                total -= roman[s[i]]\n",
        "            else:\n",
        "                total += roman[s[i]]\n",
        "        return total + roman[s[-1]]\n",
        "\n"
      ],
      "metadata": {
        "id": "CrHr7yfCVqsU"
      },
      "execution_count": 11,
      "outputs": []
    },
    {
      "cell_type": "code",
      "source": [],
      "metadata": {
        "id": "7SGLKAqZZGyW"
      },
      "execution_count": null,
      "outputs": []
    },
    {
      "cell_type": "code",
      "source": [],
      "metadata": {
        "id": "MQzVo2WUZG9R"
      },
      "execution_count": null,
      "outputs": []
    }
  ]
}