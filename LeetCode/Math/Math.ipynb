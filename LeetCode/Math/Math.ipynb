{
  "nbformat": 4,
  "nbformat_minor": 0,
  "metadata": {
    "colab": {
      "provenance": []
    },
    "kernelspec": {
      "name": "python3",
      "display_name": "Python 3"
    },
    "language_info": {
      "name": "python"
    }
  },
  "cells": [
    {
      "cell_type": "code",
      "execution_count": 1,
      "metadata": {
        "id": "v6q4_PEHm9Bk"
      },
      "outputs": [],
      "source": [
        "# 1.\n",
        "# Problem : https://leetcode.com/problems/count-odd-numbers-in-an-interval-range/?envType=study-plan-v2&envId=programming-skills\n",
        "\n",
        "# Solution :\n",
        "\n",
        "\n",
        "class Solution:\n",
        "    def countOdds(self, low: int, high: int) -> int:\n",
        "        if low % 2 == 0 and high % 2 == 0:\n",
        "            return (high - low) // 2\n",
        "        else:\n",
        "            return ((high - low) // 2) + 1"
      ]
    },
    {
      "cell_type": "code",
      "source": [],
      "metadata": {
        "id": "_XACLzvFnh-W"
      },
      "execution_count": null,
      "outputs": []
    },
    {
      "cell_type": "code",
      "source": [],
      "metadata": {
        "id": "cJBW7xH1niGB"
      },
      "execution_count": null,
      "outputs": []
    },
    {
      "cell_type": "code",
      "source": [
        "# 2.\n",
        "# Problem : https://leetcode.com/problems/average-salary-excluding-the-minimum-and-maximum-salary/?envType=study-plan-v2&envId=programming-skills\n",
        "\n",
        "# Solution :\n",
        "\n",
        "from typing import List\n",
        "\n",
        "class Solution:\n",
        "    def average(self, salary: List[int]) -> float:\n",
        "        salary.remove(min(salary))\n",
        "        salary.remove(max(salary))\n",
        "        avg_salary = sum(salary)/len(salary)\n",
        "        return avg_salary"
      ],
      "metadata": {
        "id": "hxEpmXzSniPy"
      },
      "execution_count": 2,
      "outputs": []
    },
    {
      "cell_type": "code",
      "source": [],
      "metadata": {
        "id": "zRMIeNn5n0-a"
      },
      "execution_count": null,
      "outputs": []
    },
    {
      "cell_type": "code",
      "source": [],
      "metadata": {
        "id": "iXgTaNyAn1DA"
      },
      "execution_count": null,
      "outputs": []
    },
    {
      "cell_type": "code",
      "source": [
        "# 3.\n",
        "# Problem : https://leetcode.com/problems/lemonade-change/?envType=study-plan-v2&envId=programming-skills\n",
        "\n",
        "# Solution :\n",
        "\n",
        "\n",
        "from typing import List\n",
        "\n",
        "class Solution:\n",
        "    def lemonadeChange(self, bills: List[int]) -> bool:\n",
        "      countOf_5, countOf_10 = 0, 0\n",
        "      for i in bills:\n",
        "            if i==5:\n",
        "                  countOf_5+=1\n",
        "            elif i==10:\n",
        "                if countOf_5>0:\n",
        "                    countOf_10+=1\n",
        "                    countOf_5-=1\n",
        "                else:\n",
        "                   return False\n",
        "            else:\n",
        "                if countOf_10>0 and countOf_5>0:\n",
        "                    countOf_10-=1\n",
        "                    countOf_5-=1\n",
        "                elif countOf_5>2:\n",
        "                    countOf_5-=3\n",
        "                else:\n",
        "                   return False\n",
        "      return True"
      ],
      "metadata": {
        "id": "u_A--xN1n1Jh"
      },
      "execution_count": 3,
      "outputs": []
    },
    {
      "cell_type": "code",
      "source": [],
      "metadata": {
        "id": "6DcoT0Vtn1Rg"
      },
      "execution_count": null,
      "outputs": []
    },
    {
      "cell_type": "code",
      "source": [],
      "metadata": {
        "id": "criNric4oHo6"
      },
      "execution_count": null,
      "outputs": []
    },
    {
      "cell_type": "code",
      "source": [
        "# 4.\n",
        "# Problem : https://leetcode.com/problems/largest-perimeter-triangle/?envType=study-plan-v2&envId=programming-skills\n",
        "\n",
        "# Solution :\n",
        "\n",
        "\n",
        "from typing import List\n",
        "\n",
        "class Solution:\n",
        "    def largestPerimeter(self, nums: List[int]) -> int:\n",
        "        sort_nums = sorted(nums,reverse=True)\n",
        "        for i in range(len(sort_nums)-2):\n",
        "            if sort_nums[i] < sort_nums[i+1] + sort_nums[i+2]:\n",
        "                result = (sort_nums[i] + sort_nums[i+1]\n",
        "                + sort_nums[i+2])\n",
        "                return result\n",
        "        return"
      ],
      "metadata": {
        "id": "5P6u6rzaoHyv"
      },
      "execution_count": 4,
      "outputs": []
    },
    {
      "cell_type": "code",
      "source": [],
      "metadata": {
        "id": "iJqJA66HoH5Z"
      },
      "execution_count": null,
      "outputs": []
    },
    {
      "cell_type": "code",
      "source": [],
      "metadata": {
        "id": "2NC3K_mm-ohq"
      },
      "execution_count": null,
      "outputs": []
    },
    {
      "cell_type": "code",
      "source": [
        "# 5.\n",
        "# Problem : https://leetcode.com/problems/check-if-it-is-a-straight-line/?envType=study-plan-v2&envId=programming-skills\n",
        "\n",
        "# Solution :\n",
        "\n",
        "\n",
        "from typing import List\n",
        "\n",
        "class Solution:\n",
        "    def checkStraightLine(self, coor: List[List[int]]) -> bool:\n",
        "        x0,y0 = coor[0]\n",
        "        x1,y1 = coor[1]\n",
        "        for i in range(2,len(coor)):\n",
        "            x,y = coor[i]\n",
        "            if (x1-x0)*(y-y0) != (x-x0)*(y1-y0):\n",
        "                return False\n",
        "        return True"
      ],
      "metadata": {
        "id": "NK-AtHEMoH_K"
      },
      "execution_count": 5,
      "outputs": []
    },
    {
      "cell_type": "code",
      "source": [],
      "metadata": {
        "id": "Ir1VvcU-oe_0"
      },
      "execution_count": null,
      "outputs": []
    },
    {
      "cell_type": "code",
      "source": [],
      "metadata": {
        "id": "x8fA4UAfofDE"
      },
      "execution_count": null,
      "outputs": []
    },
    {
      "cell_type": "code",
      "source": [
        "# 6.\n",
        "# Problem : https://leetcode.com/problems/add-binary/?envType=study-plan-v2&envId=programming-skills\n",
        "\n",
        "# Solution :\n",
        "\n",
        "\n",
        "class Solution:\n",
        "    def addBinary(self, a: str, b: str) -> str:\n",
        "        sum = bin(int(a,2) + int(b,2))\n",
        "        result = sum[2:]\n",
        "        return result"
      ],
      "metadata": {
        "id": "gCzF6hswofFu"
      },
      "execution_count": 6,
      "outputs": []
    },
    {
      "cell_type": "code",
      "source": [],
      "metadata": {
        "id": "Zv7l2OrQofIT"
      },
      "execution_count": null,
      "outputs": []
    },
    {
      "cell_type": "code",
      "source": [],
      "metadata": {
        "id": "PNgzTuNUofK1"
      },
      "execution_count": null,
      "outputs": []
    },
    {
      "cell_type": "code",
      "source": [
        "# 7.\n",
        "# Problem : https://leetcode.com/problems/multiply-strings/?envType=study-plan-v2&envId=programming-skills\n",
        "\n",
        "# Solution :\n",
        "\n",
        "\n",
        "class Solution:\n",
        "    def multiply(self, num1: str, num2: str) -> str:\n",
        "        prod = int(num1)*int(num2)\n",
        "        return str(prod)"
      ],
      "metadata": {
        "id": "TEtlzFr8ofNb"
      },
      "execution_count": 7,
      "outputs": []
    },
    {
      "cell_type": "code",
      "source": [],
      "metadata": {
        "id": "JztyvvZIpOa-"
      },
      "execution_count": null,
      "outputs": []
    },
    {
      "cell_type": "code",
      "source": [],
      "metadata": {
        "id": "PcGQgbNWpOeM"
      },
      "execution_count": null,
      "outputs": []
    },
    {
      "cell_type": "code",
      "source": [
        "# 8.\n",
        "# Problem : https://leetcode.com/problems/powx-n/?envType=study-plan-v2&envId=programming-skills\n",
        "\n",
        "# Solution :\n",
        "\n",
        "\n",
        "class Solution:\n",
        "    def myPow(self, x: float, n: int) -> float:\n",
        "        result = x**n\n",
        "        return result"
      ],
      "metadata": {
        "id": "zkuvpc0mpOij"
      },
      "execution_count": 8,
      "outputs": []
    },
    {
      "cell_type": "code",
      "source": [],
      "metadata": {
        "id": "AEUq6DCcpOlY"
      },
      "execution_count": null,
      "outputs": []
    },
    {
      "cell_type": "code",
      "source": [],
      "metadata": {
        "id": "EEcak_MjpOn6"
      },
      "execution_count": null,
      "outputs": []
    }
  ]
}